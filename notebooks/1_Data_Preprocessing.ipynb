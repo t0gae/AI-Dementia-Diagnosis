{
 "cells": [
  {
   "cell_type": "code",
   "execution_count": null,
   "metadata": {},
   "outputs": [],
   "source": [
    "import os\n",
    "import numpy as np\n",
    "from tqdm import tqdm\n",
    "from src.audio_processor import extract_audio_features\n",
    "from src.mri_preprocessor import preprocess_mri\n",
    "\n",
    "# Инициализация\n",
    "audio_features = []\n",
    "mri_scans = []\n",
    "labels = []\n",
    "\n",
    "# Обработка данных для каждого класса\n",
    "for class_name in ['dementia', 'control']:\n",
    "    # Аудио\n",
    "    audio_dir = f\"data/audio/{class_name}/\"\n",
    "    for file in tqdm(os.listdir(audio_dir), desc=f\"Аудио {class_name}\"):\n",
    "        features = extract_audio_features(os.path.join(audio_dir, file))\n",
    "        if features:\n",
    "            audio_features.append([\n",
    "                *features['mfcc'], \n",
    "                features['pitch'], \n",
    "                features['rms']\n",
    "            ])\n",
    "    \n",
    "    # МРТ\n",
    "    mri_dir = f\"data/mri/{class_name}/\"\n",
    "    for file in tqdm(os.listdir(mri_dir), desc=f\"МРТ {class_name}\"):\n",
    "        scan = preprocess_mri(os.path.join(mri_dir, file))\n",
    "        if scan is not None:\n",
    "            mri_scans.append(scan)\n",
    "    \n",
    "    # Метки: 1 для dementia, 0 для control\n",
    "    n_samples = min(len(audio_features), len(mri_scans))  # Чтобы избежать дисбаланса\n",
    "    labels.extend([1 if class_name == 'dementia' else 0] * n_samples)\n",
    "\n",
    "# Сохранение\n",
    "np.save(\"data/audio_features.npy\", np.array(audio_features))\n",
    "np.save(\"data/mri_scans.npy\", np.array(mri_scans))\n",
    "np.save(\"data/labels.npy\", np.array(labels))"
   ]
  }
 ],
 "metadata": {
  "kernelspec": {
   "display_name": "Python 3",
   "language": "python",
   "name": "python3"
  },
  "language_info": {
   "name": "python",
   "version": "3.11.9"
  }
 },
 "nbformat": 4,
 "nbformat_minor": 2
}
