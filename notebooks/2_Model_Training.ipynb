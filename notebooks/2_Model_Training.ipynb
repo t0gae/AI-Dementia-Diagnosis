{
 "cells": [
  {
   "cell_type": "code",
   "execution_count": null,
   "metadata": {},
   "outputs": [],
   "source": [
    "import numpy as np\n",
    "from src.model import build_model\n",
    "from src.utils import prepare_datasets\n",
    "\n",
    "# Загрузка данных\n",
    "audio = np.load(\"data/audio_features.npy\")\n",
    "mri = np.load(\"data/mri_scans.npy\")\n",
    "labels = np.load(\"data/labels.npy\")\n",
    "\n",
    "# Подготовка данных\n",
    "(X_audio_train, X_mri_train), (X_audio_test, X_mri_test), y_train, y_test = prepare_datasets(audio, mri, labels)\n",
    "\n",
    "# Построение модели\n",
    "model = build_model()\n",
    "model.summary()\n",
    "\n",
    "# Обучение\n",
    "history = model.fit(\n",
    "    [X_audio_train, X_mri_train],\n",
    "    y_train,\n",
    "    validation_data=([X_audio_test, X_mri_test], y_test),\n",
    "    epochs=50,\n",
    "    batch_size=8\n",
    ")\n",
    "\n",
    "# Сохранение модели\n",
    "model.save(\"models/final_model.h5\")"
   ]
  }
 ],
 "metadata": {
  "language_info": {
   "name": "python"
  }
 },
 "nbformat": 4,
 "nbformat_minor": 2
}
